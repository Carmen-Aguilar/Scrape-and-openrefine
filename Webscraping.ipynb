{
 "cells": [
  {
   "cell_type": "markdown",
   "metadata": {},
   "source": [
    "# Scraping a retailer website for a particular product"
   ]
  },
  {
   "cell_type": "markdown",
   "metadata": {},
   "source": [
    "I have been scraping the website of the main retailers in the UK, looking for the olive oil products and their prices. I have been using app.quickcode, but I will repeat the process with Jupyter. \n",
    "\n",
    "First, I need to import the libraries which I work with. In app.quickcode I used scraperwiki, requests and html"
   ]
  },
  {
   "cell_type": "code",
   "execution_count": 5,
   "metadata": {},
   "outputs": [
    {
     "name": "stdout",
     "output_type": "stream",
     "text": [
      "Solving environment: done\n",
      "\n",
      "\n",
      "==> WARNING: A newer version of conda exists. <==\n",
      "  current version: 4.4.10\n",
      "  latest version: 4.5.1\n",
      "\n",
      "Please update conda by running\n",
      "\n",
      "    $ conda update -n base conda\n",
      "\n",
      "\n",
      "\n",
      "## Package Plan ##\n",
      "\n",
      "  environment location: /Users/carmenaguilargarcia/anaconda3\n",
      "\n",
      "  added / updated specs: \n",
      "    - requests\n",
      "\n",
      "\n",
      "The following packages will be downloaded:\n",
      "\n",
      "    package                    |            build\n",
      "    ---------------------------|-----------------\n",
      "    requests-2.18.4            |           py36_1          91 KB  conda-forge\n",
      "\n",
      "The following packages will be UPDATED:\n",
      "\n",
      "    requests: 2.18.4-py36h4516966_1 --> 2.18.4-py36_1 conda-forge\n",
      "\n",
      "\n",
      "Downloading and Extracting Packages\n",
      "requests 2.18.4: ####################################################### | 100% \n",
      "Preparing transaction: done\n",
      "Verifying transaction: done\n",
      "Executing transaction: done\n"
     ]
    }
   ],
   "source": [
    "import sys\n",
    "!conda install --yes --prefix {sys.prefix} requests"
   ]
  },
  {
   "cell_type": "code",
   "execution_count": 6,
   "metadata": {},
   "outputs": [
    {
     "name": "stdout",
     "output_type": "stream",
     "text": [
      "Solving environment: done\n",
      "\n",
      "\n",
      "==> WARNING: A newer version of conda exists. <==\n",
      "  current version: 4.4.10\n",
      "  latest version: 4.5.1\n",
      "\n",
      "Please update conda by running\n",
      "\n",
      "    $ conda update -n base conda\n",
      "\n",
      "\n",
      "\n",
      "## Package Plan ##\n",
      "\n",
      "  environment location: /Users/carmenaguilargarcia/anaconda3\n",
      "\n",
      "  added / updated specs: \n",
      "    - lxml\n",
      "\n",
      "\n",
      "The following packages will be downloaded:\n",
      "\n",
      "    package                    |            build\n",
      "    ---------------------------|-----------------\n",
      "    lxml-4.2.1                 |           py36_0         1.5 MB  conda-forge\n",
      "\n",
      "The following packages will be UPDATED:\n",
      "\n",
      "    lxml: 4.1.1-py36hef8c89e_1 --> 4.2.1-py36_0 conda-forge\n",
      "\n",
      "\n",
      "Downloading and Extracting Packages\n",
      "lxml 4.2.1: ############################################################ | 100% \n",
      "Preparing transaction: done\n",
      "Verifying transaction: done\n",
      "Executing transaction: done\n"
     ]
    }
   ],
   "source": [
    "import sys\n",
    "!conda install --yes --prefix {sys.prefix} lxml"
   ]
  },
  {
   "cell_type": "code",
   "execution_count": 41,
   "metadata": {},
   "outputs": [],
   "source": [
    "import requests\n",
    "from lxml import html"
   ]
  },
  {
   "cell_type": "markdown",
   "metadata": {},
   "source": [
    "## Scraping the website"
   ]
  },
  {
   "cell_type": "markdown",
   "metadata": {},
   "source": [
    "The information I want is in three consecutive pages from the same website. I will need a loop to go through all three"
   ]
  },
  {
   "cell_type": "code",
   "execution_count": 42,
   "metadata": {},
   "outputs": [
    {
     "name": "stdout",
     "output_type": "stream",
     "text": [
      "<Element html at 0x1129e0908>\n",
      "<Element html at 0x1129e07c8>\n",
      "<Element html at 0x1129e02c8>\n"
     ]
    }
   ],
   "source": [
    "url = \"http://www.mysupermarket.co.uk/Shopping/FindProducts.aspx?query=olive+oil&store=Waitrose&page=\"\n",
    "page = [1,2,3]\n",
    "\n",
    "for i in page:\n",
    "    full_url = url+str(i)\n",
    "    web = requests.get(full_url)\n",
    "    root = html.fromstring(web.content)\n",
    "    print(root)"
   ]
  },
  {
   "cell_type": "markdown",
   "metadata": {},
   "source": [
    "I've got three items, supposingly the three different website. I take then the elements I want to. "
   ]
  },
  {
   "cell_type": "code",
   "execution_count": 13,
   "metadata": {},
   "outputs": [
    {
     "name": "stdout",
     "output_type": "stream",
     "text": [
      "Solving environment: done\n",
      "\n",
      "\n",
      "==> WARNING: A newer version of conda exists. <==\n",
      "  current version: 4.4.10\n",
      "  latest version: 4.5.1\n",
      "\n",
      "Please update conda by running\n",
      "\n",
      "    $ conda update -n base conda\n",
      "\n",
      "\n",
      "\n",
      "## Package Plan ##\n",
      "\n",
      "  environment location: /Users/carmenaguilargarcia/anaconda3\n",
      "\n",
      "  added / updated specs: \n",
      "    - cssselect\n",
      "\n",
      "\n",
      "The following packages will be downloaded:\n",
      "\n",
      "    package                    |            build\n",
      "    ---------------------------|-----------------\n",
      "    cssselect-1.0.3            |             py_0          16 KB  conda-forge\n",
      "\n",
      "The following NEW packages will be INSTALLED:\n",
      "\n",
      "    cssselect: 1.0.3-py_0 conda-forge\n",
      "\n",
      "\n",
      "Downloading and Extracting Packages\n",
      "cssselect 1.0.3: ####################################################### | 100% \n",
      "Preparing transaction: done\n",
      "Verifying transaction: done\n",
      "Executing transaction: done\n"
     ]
    }
   ],
   "source": [
    "import sys\n",
    "!conda install --yes --prefix {sys.prefix} cssselect"
   ]
  },
  {
   "cell_type": "code",
   "execution_count": 97,
   "metadata": {},
   "outputs": [
    {
     "name": "stdout",
     "output_type": "stream",
     "text": [
      "<Element html at 0x11605cf98>\n",
      "41\n",
      "<Element html at 0x115eede58>\n",
      "41\n",
      "<Element html at 0x11605cd18>\n",
      "12\n"
     ]
    }
   ],
   "source": [
    "url = \"http://www.mysupermarket.co.uk/Shopping/FindProducts.aspx?query=olive+oil&store=Waitrose&page=\"\n",
    "page = [1,2,3]\n",
    "\n",
    "dataset = []\n",
    "index = 0\n",
    "for i in page:\n",
    "    full_url = url+str(i)\n",
    "    web = requests.get(full_url)\n",
    "    root = html.fromstring(web.content)\n",
    "    print(root)    \n",
    "    rows = root.cssselect('div.DetailsWrp')\n",
    "    print(len(rows))\n",
    "    \n",
    "    for row in rows:\n",
    "       index = index+1\n",
    "       Names = row.cssselect(\"span.Prefix\")[0].text_content()\n",
    "       Links = row.cssselect(\"h3 a\")[0].attrib['href']\n",
    "       Prices = row.cssselect(\"span.PPU\")[0].text_content()\n",
    "       dataset.append((Names, Links, Prices)) \n",
    "       "
   ]
  },
  {
   "cell_type": "markdown",
   "metadata": {},
   "source": [
    "I copied again the first part of the code, because what I need is a loop inside a loop. I want now to store that information in a csv. "
   ]
  },
  {
   "cell_type": "markdown",
   "metadata": {},
   "source": [
    "## Store the information"
   ]
  },
  {
   "cell_type": "code",
   "execution_count": 79,
   "metadata": {},
   "outputs": [
    {
     "name": "stdout",
     "output_type": "stream",
     "text": [
      "Solving environment: done\n",
      "\n",
      "\n",
      "==> WARNING: A newer version of conda exists. <==\n",
      "  current version: 4.4.10\n",
      "  latest version: 4.5.1\n",
      "\n",
      "Please update conda by running\n",
      "\n",
      "    $ conda update -n base conda\n",
      "\n",
      "\n",
      "\n",
      "## Package Plan ##\n",
      "\n",
      "  environment location: /Users/carmenaguilargarcia/anaconda3\n",
      "\n",
      "  added / updated specs: \n",
      "    - pandas\n",
      "\n",
      "\n",
      "The following packages will be downloaded:\n",
      "\n",
      "    package                    |            build\n",
      "    ---------------------------|-----------------\n",
      "    pandas-0.22.0              |           py36_0        10.8 MB  conda-forge\n",
      "\n",
      "The following packages will be UPDATED:\n",
      "\n",
      "    pandas: 0.22.0-py36h0a44026_0 --> 0.22.0-py36_0 conda-forge\n",
      "\n",
      "\n",
      "Downloading and Extracting Packages\n",
      "pandas 0.22.0: ######################################################### | 100% \n",
      "Preparing transaction: done\n",
      "Verifying transaction: done\n",
      "Executing transaction: done\n"
     ]
    }
   ],
   "source": [
    "import sys\n",
    "!conda install --yes --prefix {sys.prefix} pandas"
   ]
  },
  {
   "cell_type": "code",
   "execution_count": 80,
   "metadata": {},
   "outputs": [],
   "source": [
    "import pandas"
   ]
  },
  {
   "cell_type": "code",
   "execution_count": 99,
   "metadata": {},
   "outputs": [
    {
     "name": "stdout",
     "output_type": "stream",
     "text": [
      "<Element html at 0x11358bd68>\n",
      "41\n",
      "1\n",
      "2\n",
      "3\n",
      "4\n",
      "5\n",
      "6\n",
      "7\n",
      "8\n",
      "9\n",
      "10\n",
      "11\n",
      "12\n",
      "13\n",
      "14\n",
      "15\n",
      "16\n",
      "17\n",
      "18\n",
      "19\n",
      "20\n",
      "21\n",
      "22\n",
      "23\n",
      "24\n",
      "25\n",
      "26\n",
      "27\n",
      "28\n",
      "29\n",
      "30\n",
      "31\n",
      "32\n",
      "33\n",
      "34\n",
      "35\n",
      "36\n",
      "37\n",
      "38\n",
      "39\n",
      "40\n",
      "41\n",
      "<Element html at 0x11349c688>\n",
      "41\n",
      "42\n",
      "43\n",
      "44\n",
      "45\n",
      "46\n",
      "47\n",
      "48\n",
      "49\n",
      "50\n",
      "51\n",
      "52\n",
      "53\n",
      "54\n",
      "55\n",
      "56\n",
      "57\n",
      "58\n",
      "59\n",
      "60\n",
      "61\n",
      "62\n",
      "63\n",
      "64\n",
      "65\n",
      "66\n",
      "67\n",
      "68\n",
      "69\n",
      "70\n",
      "71\n",
      "72\n",
      "73\n",
      "74\n",
      "75\n",
      "76\n",
      "77\n",
      "78\n",
      "79\n",
      "80\n",
      "81\n",
      "82\n",
      "<Element html at 0x11605cd18>\n",
      "12\n",
      "83\n",
      "84\n",
      "85\n",
      "86\n",
      "87\n",
      "88\n",
      "89\n",
      "90\n",
      "91\n",
      "92\n",
      "93\n",
      "94\n"
     ]
    }
   ],
   "source": [
    "url = \"http://www.mysupermarket.co.uk/Shopping/FindProducts.aspx?query=olive+oil&store=Waitrose&page=\"\n",
    "page = [1,2,3]\n",
    "\n",
    "dataset = []\n",
    "index = 0\n",
    "for i in page:\n",
    "    full_url = url+str(i)\n",
    "    web = requests.get(full_url)\n",
    "    root = html.fromstring(web.content)\n",
    "    print(root)    \n",
    "    rows = root.cssselect('div.DetailsWrp')\n",
    "    print(len(rows))\n",
    "    \n",
    "    for row in rows:\n",
    "       index = index+1\n",
    "       Names = row.cssselect(\"span.Prefix\")[0].text_content()\n",
    "       Links = row.cssselect(\"h3 a\")[0].attrib['href']\n",
    "       Prices = row.cssselect(\"span.PPU\")[0].text_content()\n",
    "       dataset.append((Names, Links, Prices)) \n",
    "       print(len(dataset))\n",
    "       \n",
    "df = pandas.DataFrame(data=dataset, columns=[\"Names\", \"Links\", \"Prices\"])\n",
    "df.to_csv(\"waitrose2.csv\")"
   ]
  },
  {
   "cell_type": "code",
   "execution_count": null,
   "metadata": {},
   "outputs": [],
   "source": []
  }
 ],
 "metadata": {
  "kernelspec": {
   "display_name": "Python 3",
   "language": "python",
   "name": "python3"
  },
  "language_info": {
   "codemirror_mode": {
    "name": "ipython",
    "version": 3
   },
   "file_extension": ".py",
   "mimetype": "text/x-python",
   "name": "python",
   "nbconvert_exporter": "python",
   "pygments_lexer": "ipython3",
   "version": "3.6.4"
  }
 },
 "nbformat": 4,
 "nbformat_minor": 2
}
